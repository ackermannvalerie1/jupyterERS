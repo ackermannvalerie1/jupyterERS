{
 "cells": [
  {
   "cell_type": "code",
   "execution_count": 1,
   "metadata": {},
   "outputs": [],
   "source": [
    "# import packages\n",
    "import numpy as np\n",
    "from sklearn.metrics import accuracy_score\n",
    "from sklearn.metrics import cohen_kappa_score\n",
    "from sklearn.metrics import classification_report\n",
    "from sklearn.metrics import f1_score\n",
    "from sklearn.metrics import confusion_matrix\n",
    "# define example data\n",
    "pred = np.array(['Agri', 'Agri', 'Forest', 'Forest', 'Forest', 'Water', 'Water', 'Forest', 'Forest', 'Forest', 'Agri', 'Agri', 'Forest', 'Forest', 'Agri'])\n",
    "true = np.array(['Agri', 'Forest', 'Forest', 'Forest', 'Water', 'Water', 'Forest', 'Agri', 'Agri', 'Forest', 'Agri', 'Agri', 'Forest', 'Agri', 'Agri'])"
   ]
  },
  {
   "cell_type": "code",
   "execution_count": 2,
   "metadata": {},
   "outputs": [
    {
     "name": "stdout",
     "output_type": "stream",
     "text": [
      "[[4 3 0]\n",
      " [1 4 1]\n",
      " [0 1 1]]\n"
     ]
    }
   ],
   "source": [
    "# print the confusion matrix\n",
    "print(confusion_matrix(true, pred))"
   ]
  },
  {
   "cell_type": "code",
   "execution_count": 3,
   "metadata": {},
   "outputs": [
    {
     "data": {
      "text/plain": [
       "0.6"
      ]
     },
     "execution_count": 3,
     "metadata": {},
     "output_type": "execute_result"
    }
   ],
   "source": [
    "# compute overall accuracy\n",
    "accuracy_score(true, pred)"
   ]
  },
  {
   "cell_type": "code",
   "execution_count": 4,
   "metadata": {},
   "outputs": [
    {
     "data": {
      "text/plain": [
       "0.34782608695652173"
      ]
     },
     "execution_count": 4,
     "metadata": {},
     "output_type": "execute_result"
    }
   ],
   "source": [
    "# compute Kappa\n",
    "cohen_kappa_score(true, pred)"
   ]
  },
  {
   "cell_type": "code",
   "execution_count": 5,
   "metadata": {},
   "outputs": [
    {
     "data": {
      "text/plain": [
       "array([0.66666667, 0.57142857, 0.5       ])"
      ]
     },
     "execution_count": 5,
     "metadata": {},
     "output_type": "execute_result"
    }
   ],
   "source": [
    "# compute F1-scores\n",
    "f1_score(true, pred, average=None)# compute F1-scores"
   ]
  },
  {
   "cell_type": "code",
   "execution_count": 6,
   "metadata": {},
   "outputs": [
    {
     "name": "stdout",
     "output_type": "stream",
     "text": [
      "              precision    recall  f1-score   support\n",
      "\n",
      "        Agri       0.80      0.57      0.67         7\n",
      "      Forest       0.50      0.67      0.57         6\n",
      "       Water       0.50      0.50      0.50         2\n",
      "\n",
      "    accuracy                           0.60        15\n",
      "   macro avg       0.60      0.58      0.58        15\n",
      "weighted avg       0.64      0.60      0.61        15\n",
      "\n"
     ]
    }
   ],
   "source": [
    "# summary of all metrics\n",
    "print(classification_report(true, pred))"
   ]
  }
 ],
 "metadata": {
  "kernelspec": {
   "display_name": "Python 3",
   "language": "python",
   "name": "python3"
  },
  "language_info": {
   "codemirror_mode": {
    "name": "ipython",
    "version": 3
   },
   "file_extension": ".py",
   "mimetype": "text/x-python",
   "name": "python",
   "nbconvert_exporter": "python",
   "pygments_lexer": "ipython3",
   "version": "3.8.3"
  }
 },
 "nbformat": 4,
 "nbformat_minor": 4
}
